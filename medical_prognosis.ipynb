{
 "cells": [
  {
   "cell_type": "markdown",
   "metadata": {
    "colab_type": "text",
    "id": "EZqu9a_ChWYv"
   },
   "source": [
    "# Cox Proportional Hazards and Random Survival Forests\n",
    "\n",
    "We'll develop risk models using survival data and a combination of linear and non-linear techniques. We'll be using a dataset with survival data of patients with Primary Biliary Cirrhosis (pbc). PBC is a progressive disease of the liver caused by a buildup of bile within the liver (cholestasis) that results in damage to the small bile ducts that drain bile from the liver. Our goal will be to understand the effects of different factors on the survival times of the patients. Along the way you'll learn about the following topics: \n",
    "\n",
    "- Cox Proportional Hazards\n",
    "  - Data Preprocessing for Cox Models.\n",
    "- Random Survival Forests\n",
    "  - Permutation Methods for Interpretation."
   ]
  },
  {
   "cell_type": "markdown",
   "metadata": {},
  },
  {
   "cell_type": "markdown",
   "metadata": {
    "colab_type": "text",
    "id": "IH0ukiNS3zG-"
   },
   "source": [
    "<a name='1'></a>\n",
    "## 1. Import Packages\n",
    "\n",
    "We'll first import all the packages that we need for this assignment. \n",
    "\n",
    "- `sklearn` is one of the most popular machine learning libraries.\n",
    "- `numpy` is the fundamental package for scientific computing in python.\n",
    "- `pandas` is what we'll use to manipulate our data.\n",
    "- `matplotlib` is a plotting library.\n",
    "- `lifelines` is an open-source survival analysis library."
   ]
  },
  {
   "cell_type": "code",
   "execution_count": 1,
   "metadata": {
    "colab": {},
    "colab_type": "code",
    "id": "0JHzRJaQi_nU"
   },
   "outputs": [],
   "source": [
    "import sklearn\n",
    "import numpy as np\n",
    "import pandas as pd\n",
    "import matplotlib.pyplot as plt\n",
    "\n",
    "from lifelines import CoxPHFitter\n",
    "from lifelines.utils import concordance_index as cindex\n",
    "from sklearn.model_selection import train_test_split\n",
    "\n",
    "from util import load_data"
   ]
  },
  {
   "cell_type": "markdown",
   "metadata": {
    "colab_type": "text",
    "id": "vZMwq0VfW5TW"
   },
   "source": [
    "<a name='2'></a>\n",
    "## 2. Load the Dataset\n",
    "\n",
    "Run the next cell to load the data."
   ]
  },
  {
   "cell_type": "code",
   "execution_count": 3,
   "metadata": {},
   "outputs": [
    {
     "data": {
      "text/html": [
       "<div>\n",
       "<style scoped>\n",
       "    .dataframe tbody tr th:only-of-type {\n",
       "        vertical-align: middle;\n",
       "    }\n",
       "\n",
       "    .dataframe tbody tr th {\n",
       "        vertical-align: top;\n",
       "    }\n",
       "\n",
       "    .dataframe thead th {\n",
       "        text-align: right;\n",
       "    }\n",
       "</style>\n",
       "<table border=\"1\" class=\"dataframe\">\n",
       "  <thead>\n",
       "    <tr style=\"text-align: right;\">\n",
       "      <th></th>\n",
       "      <th>time</th>\n",
       "      <th>status</th>\n",
       "      <th>trt</th>\n",
       "      <th>age</th>\n",
       "      <th>sex</th>\n",
       "      <th>ascites</th>\n",
       "      <th>hepato</th>\n",
       "      <th>spiders</th>\n",
       "      <th>edema</th>\n",
       "      <th>bili</th>\n",
       "      <th>chol</th>\n",
       "      <th>albumin</th>\n",
       "      <th>copper</th>\n",
       "      <th>alk.phos</th>\n",
       "      <th>ast</th>\n",
       "      <th>trig</th>\n",
       "      <th>platelet</th>\n",
       "      <th>protime</th>\n",
       "      <th>stage</th>\n",
       "    </tr>\n",
       "  </thead>\n",
       "  <tbody>\n",
       "    <tr>\n",
       "      <th>0</th>\n",
       "      <td>1.095890</td>\n",
       "      <td>1.0</td>\n",
       "      <td>0.0</td>\n",
       "      <td>58.765229</td>\n",
       "      <td>0.0</td>\n",
       "      <td>1.0</td>\n",
       "      <td>1.0</td>\n",
       "      <td>1.0</td>\n",
       "      <td>1.0</td>\n",
       "      <td>14.5</td>\n",
       "      <td>261.0</td>\n",
       "      <td>2.60</td>\n",
       "      <td>156.0</td>\n",
       "      <td>1718.0</td>\n",
       "      <td>137.95</td>\n",
       "      <td>172.0</td>\n",
       "      <td>190.0</td>\n",
       "      <td>12.2</td>\n",
       "      <td>4.0</td>\n",
       "    </tr>\n",
       "    <tr>\n",
       "      <th>1</th>\n",
       "      <td>12.328767</td>\n",
       "      <td>0.0</td>\n",
       "      <td>0.0</td>\n",
       "      <td>56.446270</td>\n",
       "      <td>0.0</td>\n",
       "      <td>0.0</td>\n",
       "      <td>1.0</td>\n",
       "      <td>1.0</td>\n",
       "      <td>0.0</td>\n",
       "      <td>1.1</td>\n",
       "      <td>302.0</td>\n",
       "      <td>4.14</td>\n",
       "      <td>54.0</td>\n",
       "      <td>7394.8</td>\n",
       "      <td>113.52</td>\n",
       "      <td>88.0</td>\n",
       "      <td>221.0</td>\n",
       "      <td>10.6</td>\n",
       "      <td>3.0</td>\n",
       "    </tr>\n",
       "    <tr>\n",
       "      <th>2</th>\n",
       "      <td>2.772603</td>\n",
       "      <td>1.0</td>\n",
       "      <td>0.0</td>\n",
       "      <td>70.072553</td>\n",
       "      <td>1.0</td>\n",
       "      <td>0.0</td>\n",
       "      <td>0.0</td>\n",
       "      <td>0.0</td>\n",
       "      <td>0.5</td>\n",
       "      <td>1.4</td>\n",
       "      <td>176.0</td>\n",
       "      <td>3.48</td>\n",
       "      <td>210.0</td>\n",
       "      <td>516.0</td>\n",
       "      <td>96.10</td>\n",
       "      <td>55.0</td>\n",
       "      <td>151.0</td>\n",
       "      <td>12.0</td>\n",
       "      <td>4.0</td>\n",
       "    </tr>\n",
       "    <tr>\n",
       "      <th>3</th>\n",
       "      <td>5.273973</td>\n",
       "      <td>1.0</td>\n",
       "      <td>0.0</td>\n",
       "      <td>54.740589</td>\n",
       "      <td>0.0</td>\n",
       "      <td>0.0</td>\n",
       "      <td>1.0</td>\n",
       "      <td>1.0</td>\n",
       "      <td>0.5</td>\n",
       "      <td>1.8</td>\n",
       "      <td>244.0</td>\n",
       "      <td>2.54</td>\n",
       "      <td>64.0</td>\n",
       "      <td>6121.8</td>\n",
       "      <td>60.63</td>\n",
       "      <td>92.0</td>\n",
       "      <td>183.0</td>\n",
       "      <td>10.3</td>\n",
       "      <td>4.0</td>\n",
       "    </tr>\n",
       "    <tr>\n",
       "      <th>6</th>\n",
       "      <td>5.019178</td>\n",
       "      <td>0.0</td>\n",
       "      <td>1.0</td>\n",
       "      <td>55.534565</td>\n",
       "      <td>0.0</td>\n",
       "      <td>0.0</td>\n",
       "      <td>1.0</td>\n",
       "      <td>0.0</td>\n",
       "      <td>0.0</td>\n",
       "      <td>1.0</td>\n",
       "      <td>322.0</td>\n",
       "      <td>4.09</td>\n",
       "      <td>52.0</td>\n",
       "      <td>824.0</td>\n",
       "      <td>60.45</td>\n",
       "      <td>213.0</td>\n",
       "      <td>204.0</td>\n",
       "      <td>9.7</td>\n",
       "      <td>3.0</td>\n",
       "    </tr>\n",
       "    <tr>\n",
       "      <th>...</th>\n",
       "      <td>...</td>\n",
       "      <td>...</td>\n",
       "      <td>...</td>\n",
       "      <td>...</td>\n",
       "      <td>...</td>\n",
       "      <td>...</td>\n",
       "      <td>...</td>\n",
       "      <td>...</td>\n",
       "      <td>...</td>\n",
       "      <td>...</td>\n",
       "      <td>...</td>\n",
       "      <td>...</td>\n",
       "      <td>...</td>\n",
       "      <td>...</td>\n",
       "      <td>...</td>\n",
       "      <td>...</td>\n",
       "      <td>...</td>\n",
       "      <td>...</td>\n",
       "      <td>...</td>\n",
       "    </tr>\n",
       "    <tr>\n",
       "      <th>307</th>\n",
       "      <td>3.158904</td>\n",
       "      <td>0.0</td>\n",
       "      <td>0.0</td>\n",
       "      <td>61.182752</td>\n",
       "      <td>0.0</td>\n",
       "      <td>0.0</td>\n",
       "      <td>1.0</td>\n",
       "      <td>0.0</td>\n",
       "      <td>0.0</td>\n",
       "      <td>0.4</td>\n",
       "      <td>246.0</td>\n",
       "      <td>3.58</td>\n",
       "      <td>24.0</td>\n",
       "      <td>797.0</td>\n",
       "      <td>91.00</td>\n",
       "      <td>113.0</td>\n",
       "      <td>288.0</td>\n",
       "      <td>10.4</td>\n",
       "      <td>2.0</td>\n",
       "    </tr>\n",
       "    <tr>\n",
       "      <th>308</th>\n",
       "      <td>2.723288</td>\n",
       "      <td>0.0</td>\n",
       "      <td>1.0</td>\n",
       "      <td>58.299795</td>\n",
       "      <td>0.0</td>\n",
       "      <td>0.0</td>\n",
       "      <td>0.0</td>\n",
       "      <td>0.0</td>\n",
       "      <td>0.0</td>\n",
       "      <td>0.4</td>\n",
       "      <td>260.0</td>\n",
       "      <td>2.75</td>\n",
       "      <td>41.0</td>\n",
       "      <td>1166.0</td>\n",
       "      <td>70.00</td>\n",
       "      <td>82.0</td>\n",
       "      <td>231.0</td>\n",
       "      <td>10.8</td>\n",
       "      <td>2.0</td>\n",
       "    </tr>\n",
       "    <tr>\n",
       "      <th>309</th>\n",
       "      <td>2.572603</td>\n",
       "      <td>0.0</td>\n",
       "      <td>0.0</td>\n",
       "      <td>62.332649</td>\n",
       "      <td>0.0</td>\n",
       "      <td>0.0</td>\n",
       "      <td>0.0</td>\n",
       "      <td>0.0</td>\n",
       "      <td>0.0</td>\n",
       "      <td>1.7</td>\n",
       "      <td>434.0</td>\n",
       "      <td>3.35</td>\n",
       "      <td>39.0</td>\n",
       "      <td>1713.0</td>\n",
       "      <td>171.00</td>\n",
       "      <td>100.0</td>\n",
       "      <td>234.0</td>\n",
       "      <td>10.2</td>\n",
       "      <td>2.0</td>\n",
       "    </tr>\n",
       "    <tr>\n",
       "      <th>310</th>\n",
       "      <td>2.298630</td>\n",
       "      <td>0.0</td>\n",
       "      <td>0.0</td>\n",
       "      <td>37.998631</td>\n",
       "      <td>0.0</td>\n",
       "      <td>0.0</td>\n",
       "      <td>0.0</td>\n",
       "      <td>0.0</td>\n",
       "      <td>0.0</td>\n",
       "      <td>2.0</td>\n",
       "      <td>247.0</td>\n",
       "      <td>3.16</td>\n",
       "      <td>69.0</td>\n",
       "      <td>1050.0</td>\n",
       "      <td>117.00</td>\n",
       "      <td>88.0</td>\n",
       "      <td>335.0</td>\n",
       "      <td>10.5</td>\n",
       "      <td>2.0</td>\n",
       "    </tr>\n",
       "    <tr>\n",
       "      <th>311</th>\n",
       "      <td>2.158904</td>\n",
       "      <td>0.0</td>\n",
       "      <td>1.0</td>\n",
       "      <td>33.152635</td>\n",
       "      <td>0.0</td>\n",
       "      <td>0.0</td>\n",
       "      <td>0.0</td>\n",
       "      <td>1.0</td>\n",
       "      <td>0.0</td>\n",
       "      <td>6.4</td>\n",
       "      <td>576.0</td>\n",
       "      <td>3.79</td>\n",
       "      <td>186.0</td>\n",
       "      <td>2115.0</td>\n",
       "      <td>136.00</td>\n",
       "      <td>149.0</td>\n",
       "      <td>200.0</td>\n",
       "      <td>10.8</td>\n",
       "      <td>2.0</td>\n",
       "    </tr>\n",
       "  </tbody>\n",
       "</table>\n",
       "<p>258 rows × 19 columns</p>\n",
       "</div>"
      ],
      "text/plain": [
       "          time  status  trt        age  sex  ascites  hepato  spiders  edema  \\\n",
       "0     1.095890     1.0  0.0  58.765229  0.0      1.0     1.0      1.0    1.0   \n",
       "1    12.328767     0.0  0.0  56.446270  0.0      0.0     1.0      1.0    0.0   \n",
       "2     2.772603     1.0  0.0  70.072553  1.0      0.0     0.0      0.0    0.5   \n",
       "3     5.273973     1.0  0.0  54.740589  0.0      0.0     1.0      1.0    0.5   \n",
       "6     5.019178     0.0  1.0  55.534565  0.0      0.0     1.0      0.0    0.0   \n",
       "..         ...     ...  ...        ...  ...      ...     ...      ...    ...   \n",
       "307   3.158904     0.0  0.0  61.182752  0.0      0.0     1.0      0.0    0.0   \n",
       "308   2.723288     0.0  1.0  58.299795  0.0      0.0     0.0      0.0    0.0   \n",
       "309   2.572603     0.0  0.0  62.332649  0.0      0.0     0.0      0.0    0.0   \n",
       "310   2.298630     0.0  0.0  37.998631  0.0      0.0     0.0      0.0    0.0   \n",
       "311   2.158904     0.0  1.0  33.152635  0.0      0.0     0.0      1.0    0.0   \n",
       "\n",
       "     bili   chol  albumin  copper  alk.phos     ast   trig  platelet  protime  \\\n",
       "0    14.5  261.0     2.60   156.0    1718.0  137.95  172.0     190.0     12.2   \n",
       "1     1.1  302.0     4.14    54.0    7394.8  113.52   88.0     221.0     10.6   \n",
       "2     1.4  176.0     3.48   210.0     516.0   96.10   55.0     151.0     12.0   \n",
       "3     1.8  244.0     2.54    64.0    6121.8   60.63   92.0     183.0     10.3   \n",
       "6     1.0  322.0     4.09    52.0     824.0   60.45  213.0     204.0      9.7   \n",
       "..    ...    ...      ...     ...       ...     ...    ...       ...      ...   \n",
       "307   0.4  246.0     3.58    24.0     797.0   91.00  113.0     288.0     10.4   \n",
       "308   0.4  260.0     2.75    41.0    1166.0   70.00   82.0     231.0     10.8   \n",
       "309   1.7  434.0     3.35    39.0    1713.0  171.00  100.0     234.0     10.2   \n",
       "310   2.0  247.0     3.16    69.0    1050.0  117.00   88.0     335.0     10.5   \n",
       "311   6.4  576.0     3.79   186.0    2115.0  136.00  149.0     200.0     10.8   \n",
       "\n",
       "     stage  \n",
       "0      4.0  \n",
       "1      3.0  \n",
       "2      4.0  \n",
       "3      4.0  \n",
       "6      3.0  \n",
       "..     ...  \n",
       "307    2.0  \n",
       "308    2.0  \n",
       "309    2.0  \n",
       "310    2.0  \n",
       "311    2.0  \n",
       "\n",
       "[258 rows x 19 columns]"
      ]
     },
     "execution_count": 3,
     "metadata": {},
     "output_type": "execute_result"
    }
   ],
   "source": [
    "df = load_data()\n",
    "df"
   ]
  },
  {
   "cell_type": "markdown",
   "metadata": {},
   "source": [
    "<a name='3'></a>\n",
    "## 3. Explore the Dataset\n",
    "\n",
    "In the lecture videos `time` was in months, however in this assignment, `time` will be converted into years. Also notice that we have assigned a numeric value to `sex`, where `female = 0` and `male = 1`.\n",
    "\n",
    "Next, familiarize yourself with the data and the shape of it. "
   ]
  },
  {
   "cell_type": "code",
   "execution_count": 4,
   "metadata": {
    "colab": {
     "base_uri": "https://localhost:8080/",
     "height": 241
    },
    "colab_type": "code",
    "id": "T1a_aHGmXT_C",
    "outputId": "1bbcf6d9-f293-49f4-963a-827c8e79813b"
   },
   "outputs": [
    {
     "name": "stdout",
     "output_type": "stream",
     "text": [
      "(258, 19)\n"
     ]
    },
    {
     "data": {
      "text/html": [
       "<div>\n",
       "<style scoped>\n",
       "    .dataframe tbody tr th:only-of-type {\n",
       "        vertical-align: middle;\n",
       "    }\n",
       "\n",
       "    .dataframe tbody tr th {\n",
       "        vertical-align: top;\n",
       "    }\n",
       "\n",
       "    .dataframe thead th {\n",
       "        text-align: right;\n",
       "    }\n",
       "</style>\n",
       "<table border=\"1\" class=\"dataframe\">\n",
       "  <thead>\n",
       "    <tr style=\"text-align: right;\">\n",
       "      <th></th>\n",
       "      <th>time</th>\n",
       "      <th>status</th>\n",
       "      <th>trt</th>\n",
       "      <th>age</th>\n",
       "      <th>sex</th>\n",
       "      <th>ascites</th>\n",
       "      <th>hepato</th>\n",
       "      <th>spiders</th>\n",
       "      <th>edema</th>\n",
       "      <th>bili</th>\n",
       "      <th>chol</th>\n",
       "      <th>albumin</th>\n",
       "      <th>copper</th>\n",
       "      <th>alk.phos</th>\n",
       "      <th>ast</th>\n",
       "      <th>trig</th>\n",
       "      <th>platelet</th>\n",
       "      <th>protime</th>\n",
       "      <th>stage</th>\n",
       "    </tr>\n",
       "  </thead>\n",
       "  <tbody>\n",
       "    <tr>\n",
       "      <th>0</th>\n",
       "      <td>1.095890</td>\n",
       "      <td>1.0</td>\n",
       "      <td>0.0</td>\n",
       "      <td>58.765229</td>\n",
       "      <td>0.0</td>\n",
       "      <td>1.0</td>\n",
       "      <td>1.0</td>\n",
       "      <td>1.0</td>\n",
       "      <td>1.0</td>\n",
       "      <td>14.5</td>\n",
       "      <td>261.0</td>\n",
       "      <td>2.60</td>\n",
       "      <td>156.0</td>\n",
       "      <td>1718.0</td>\n",
       "      <td>137.95</td>\n",
       "      <td>172.0</td>\n",
       "      <td>190.0</td>\n",
       "      <td>12.2</td>\n",
       "      <td>4.0</td>\n",
       "    </tr>\n",
       "    <tr>\n",
       "      <th>1</th>\n",
       "      <td>12.328767</td>\n",
       "      <td>0.0</td>\n",
       "      <td>0.0</td>\n",
       "      <td>56.446270</td>\n",
       "      <td>0.0</td>\n",
       "      <td>0.0</td>\n",
       "      <td>1.0</td>\n",
       "      <td>1.0</td>\n",
       "      <td>0.0</td>\n",
       "      <td>1.1</td>\n",
       "      <td>302.0</td>\n",
       "      <td>4.14</td>\n",
       "      <td>54.0</td>\n",
       "      <td>7394.8</td>\n",
       "      <td>113.52</td>\n",
       "      <td>88.0</td>\n",
       "      <td>221.0</td>\n",
       "      <td>10.6</td>\n",
       "      <td>3.0</td>\n",
       "    </tr>\n",
       "    <tr>\n",
       "      <th>2</th>\n",
       "      <td>2.772603</td>\n",
       "      <td>1.0</td>\n",
       "      <td>0.0</td>\n",
       "      <td>70.072553</td>\n",
       "      <td>1.0</td>\n",
       "      <td>0.0</td>\n",
       "      <td>0.0</td>\n",
       "      <td>0.0</td>\n",
       "      <td>0.5</td>\n",
       "      <td>1.4</td>\n",
       "      <td>176.0</td>\n",
       "      <td>3.48</td>\n",
       "      <td>210.0</td>\n",
       "      <td>516.0</td>\n",
       "      <td>96.10</td>\n",
       "      <td>55.0</td>\n",
       "      <td>151.0</td>\n",
       "      <td>12.0</td>\n",
       "      <td>4.0</td>\n",
       "    </tr>\n",
       "    <tr>\n",
       "      <th>3</th>\n",
       "      <td>5.273973</td>\n",
       "      <td>1.0</td>\n",
       "      <td>0.0</td>\n",
       "      <td>54.740589</td>\n",
       "      <td>0.0</td>\n",
       "      <td>0.0</td>\n",
       "      <td>1.0</td>\n",
       "      <td>1.0</td>\n",
       "      <td>0.5</td>\n",
       "      <td>1.8</td>\n",
       "      <td>244.0</td>\n",
       "      <td>2.54</td>\n",
       "      <td>64.0</td>\n",
       "      <td>6121.8</td>\n",
       "      <td>60.63</td>\n",
       "      <td>92.0</td>\n",
       "      <td>183.0</td>\n",
       "      <td>10.3</td>\n",
       "      <td>4.0</td>\n",
       "    </tr>\n",
       "    <tr>\n",
       "      <th>6</th>\n",
       "      <td>5.019178</td>\n",
       "      <td>0.0</td>\n",
       "      <td>1.0</td>\n",
       "      <td>55.534565</td>\n",
       "      <td>0.0</td>\n",
       "      <td>0.0</td>\n",
       "      <td>1.0</td>\n",
       "      <td>0.0</td>\n",
       "      <td>0.0</td>\n",
       "      <td>1.0</td>\n",
       "      <td>322.0</td>\n",
       "      <td>4.09</td>\n",
       "      <td>52.0</td>\n",
       "      <td>824.0</td>\n",
       "      <td>60.45</td>\n",
       "      <td>213.0</td>\n",
       "      <td>204.0</td>\n",
       "      <td>9.7</td>\n",
       "      <td>3.0</td>\n",
       "    </tr>\n",
       "  </tbody>\n",
       "</table>\n",
       "</div>"
      ],
      "text/plain": [
       "        time  status  trt        age  sex  ascites  hepato  spiders  edema  \\\n",
       "0   1.095890     1.0  0.0  58.765229  0.0      1.0     1.0      1.0    1.0   \n",
       "1  12.328767     0.0  0.0  56.446270  0.0      0.0     1.0      1.0    0.0   \n",
       "2   2.772603     1.0  0.0  70.072553  1.0      0.0     0.0      0.0    0.5   \n",
       "3   5.273973     1.0  0.0  54.740589  0.0      0.0     1.0      1.0    0.5   \n",
       "6   5.019178     0.0  1.0  55.534565  0.0      0.0     1.0      0.0    0.0   \n",
       "\n",
       "   bili   chol  albumin  copper  alk.phos     ast   trig  platelet  protime  \\\n",
       "0  14.5  261.0     2.60   156.0    1718.0  137.95  172.0     190.0     12.2   \n",
       "1   1.1  302.0     4.14    54.0    7394.8  113.52   88.0     221.0     10.6   \n",
       "2   1.4  176.0     3.48   210.0     516.0   96.10   55.0     151.0     12.0   \n",
       "3   1.8  244.0     2.54    64.0    6121.8   60.63   92.0     183.0     10.3   \n",
       "6   1.0  322.0     4.09    52.0     824.0   60.45  213.0     204.0      9.7   \n",
       "\n",
       "   stage  \n",
       "0    4.0  \n",
       "1    3.0  \n",
       "2    4.0  \n",
       "3    4.0  \n",
       "6    3.0  "
      ]
     },
     "execution_count": 4,
     "metadata": {},
     "output_type": "execute_result"
    }
   ],
   "source": [
    "print(df.shape)\n",
    "\n",
    "# df.head() only outputs the top few rows\n",
    "df.head()"
   ]
  },
  {
   "cell_type": "markdown",
   "metadata": {
    "colab_type": "text",
    "id": "Zy5BmjCV-Uo2"
   },
   "source": [
    "Take a minute to examine particular cases."
   ]
  },
  {
   "cell_type": "code",
   "execution_count": 5,
   "metadata": {
    "colab": {
     "base_uri": "https://localhost:8080/",
     "height": 357
    },
    "colab_type": "code",
    "id": "01I3ChzL-T-f",
    "outputId": "68e209dc-7a44-434b-d44c-4a1e817ee6ca"
   },
   "outputs": [
    {
     "data": {
      "text/plain": [
       "time          11.175342\n",
       "status         1.000000\n",
       "trt            0.000000\n",
       "age           44.520192\n",
       "sex            1.000000\n",
       "ascites        0.000000\n",
       "hepato         1.000000\n",
       "spiders        0.000000\n",
       "edema          0.000000\n",
       "bili           2.100000\n",
       "chol         456.000000\n",
       "albumin        4.000000\n",
       "copper       124.000000\n",
       "alk.phos    5719.000000\n",
       "ast          221.880000\n",
       "trig         230.000000\n",
       "platelet      70.000000\n",
       "protime        9.900000\n",
       "stage          2.000000\n",
       "Name: 23, dtype: float64"
      ]
     },
     "execution_count": 5,
     "metadata": {},
     "output_type": "execute_result"
    }
   ],
   "source": [
    "i = 20\n",
    "df.iloc[i, :]"
   ]
  },
  {
   "cell_type": "markdown",
   "metadata": {
    "colab_type": "text",
    "id": "pYZKl_9Tk2vS"
   },
   "source": [
    "Now, split your dataset into train, validation and test set using 60/20/20 split. "
   ]
  },
  {
   "cell_type": "code",
   "execution_count": 6,
   "metadata": {
    "colab": {},
    "colab_type": "code",
    "id": "V4HJSZaMk1xG"
   },
   "outputs": [
    {
     "name": "stdout",
     "output_type": "stream",
     "text": [
      "Total number of patients: 258\n",
      "Total number of patients in training set: 154\n",
      "Total number of patients in validation set: 52\n",
      "Total number of patients in test set: 52\n"
     ]
    }
   ],
   "source": [
    "np.random.seed(0)\n",
    "df_dev, df_test = train_test_split(df, test_size = 0.2)\n",
    "df_train, df_val = train_test_split(df_dev, test_size = 0.25)\n",
    "\n",
    "print(\"Total number of patients:\", df.shape[0])\n",
    "print(\"Total number of patients in training set:\", df_train.shape[0])\n",
    "print(\"Total number of patients in validation set:\", df_val.shape[0])\n",
    "print(\"Total number of patients in test set:\", df_test.shape[0])"
   ]
  },
  {
   "cell_type": "markdown",
   "metadata": {
    "colab_type": "text",
    "id": "BX3woHz-jit1"
   },
   "source": [
    "<a name='4'></a>\n",
    "## 4. Cox Proportional Hazards\n",
    "\n",
    "Our goal is to build a risk score using the survival data that we have. We'll begin by fitting a Cox Proportional Hazards model to your data.\n",
    "\n",
    "Recall that the Cox Proportional Hazards model describes the hazard for an individual $i$ at time $t$ as \n",
    "\n",
    "$$\n",
    "\\lambda(t, x) = \\lambda_0(t)e^{\\theta^T X_i}\n",
    "$$\n",
    "\n",
    "The $\\lambda_0$ term is a baseline hazard and incorporates the risk over time, and the other term incorporates the risk due to the individual's covariates. After fitting the model, we can rank individuals using the person-dependent risk term $e^{\\theta^T X_i}$. \n",
    "\n",
    "Categorical variables cannot be used in a regression model as they are. In order to use them, conversion to a series of variables is required.\n",
    "\n",
    "Since our data has a mix of categorical (`stage`) and continuous (`wblc`) variables, before we proceed further we need to do some data engineering. To tackle the issue at hand we'll be using the `Dummy Coding` technique. In order to use Cox Proportional Hazards, we will have to turn the categorical data into one hot features so that we can fit our Cox model. Luckily, Pandas has a built-in function called `get_dummies` that will make it easier for us to implement our function. It turns categorical features into multiple binary features.\n",
    "\n",
    "<img src=\"1-hot-encode.png\" style=\"padding-top: 5px;width: 60%;left: 0px;margin-left: 150px;margin-right: 0px;\">\n"
   ]
  },
  {
   "cell_type": "markdown",
   "metadata": {},
   "source": [
    "<a name='Ex-1'></a>\n",
    "### Exercise 1\n",
    "In the cell below, implement the `to_one_hot(...)` function."
   ]
  },
  {
   "cell_type": "markdown",
   "metadata": {},
   "source": [
    "<details>    \n",
    "<summary>\n",
    "    <font size=\"3\" color=\"darkgreen\"><b>Hints</b></font>\n",
    "</summary>\n",
    "<p>\n",
    "<ul>\n",
    "    <li>Remember to drop the first dummy for each each category to avoid convergence issues when fitting the proportional hazards model.</li>\n",
    "    <li> Check out the <a href=\"https://pandas.pydata.org/pandas-docs/stable/reference/api/pandas.get_dummies.html\" > get_dummies() </a>  documentation. </li>\n",
    "    <li>Use <code>dtype=np.float64</code>.</li>\n",
    "</ul>\n",
    "</p>"
   ]
  },
  {
   "cell_type": "markdown",
   "metadata": {
    "colab_type": "text",
    "id": "oI94Jr3544Xt"
   },
   "source": [
    "### Solution"
   ]
  },
  {
   "cell_type": "code",
   "execution_count": 7,
   "metadata": {
    "colab": {},
    "colab_type": "code",
    "id": "VMzvx0xF_C3I"
   },
   "outputs": [],
   "source": [
    "# UNQ_C1 (UNIQUE CELL IDENTIFIER, DO NOT EDIT)\n",
    "def to_one_hot(dataframe, columns):\n",
    "    '''\n",
    "    Convert columns in dataframe to one-hot encoding.\n",
    "    Args:\n",
    "        dataframe (dataframe): pandas dataframe containing covariates\n",
    "        columns (list of strings): list categorical column names to one hot encode\n",
    "    Returns:\n",
    "        one_hot_df (dataframe): dataframe with categorical columns encoded\n",
    "                            as binary variables\n",
    "    '''\n",
    "    \n",
    "    ### START CODE HERE (REPLACE INSTANCES OF 'None' with your code) ###\n",
    "    \n",
    "    one_hot_df = pd.get_dummies(dataframe, columns = columns, drop_first = True, dtype=np.float64)\n",
    "    \n",
    "    ### END CODE HERE ###\n",
    "    \n",
    "    return one_hot_df"
   ]
  },
  {
   "cell_type": "markdown",
   "metadata": {
    "colab_type": "text",
    "id": "M0qSBiCz459I"
   },
   "source": [
    "### End of Solution"
   ]
  },
  {
   "cell_type": "markdown",
   "metadata": {
    "colab_type": "text",
    "id": "rM2tIzvG_ifc"
   },
   "source": [
    "Now we'll use the function you coded to transform the training, validation, and test sets."
   ]
  },
  {
   "cell_type": "code",
   "execution_count": 8,
   "metadata": {
    "colab": {},
    "colab_type": "code",
    "id": "SGZfLeup_fUL"
   },
   "outputs": [
    {
     "name": "stdout",
     "output_type": "stream",
     "text": [
      "['time', 'status', 'trt', 'age', 'sex', 'ascites', 'hepato', 'spiders', 'bili', 'chol', 'albumin', 'copper', 'alk.phos', 'ast', 'trig', 'platelet', 'protime', 'edema_0.5', 'edema_1.0', 'stage_2.0', 'stage_3.0', 'stage_4.0']\n",
      "There are 22 columns\n"
     ]
    }
   ],
   "source": [
    "# List of categorical columns\n",
    "to_encode = ['edema', 'stage']\n",
    "\n",
    "one_hot_train = to_one_hot(df_train, to_encode)\n",
    "one_hot_val = to_one_hot(df_val, to_encode)\n",
    "one_hot_test = to_one_hot(df_test, to_encode)\n",
    "\n",
    "print(one_hot_val.columns.tolist())\n",
    "print(f\"There are {len(one_hot_val.columns)} columns\")"
   ]
  },
  {
   "cell_type": "markdown",
   "metadata": {},
   "source": [
    "#### Expected output\n",
    "```Python\n",
    "['time', 'status', 'trt', 'age', 'sex', 'ascites', 'hepato', 'spiders', 'bili', 'chol', 'albumin', 'copper', 'alk.phos', 'ast', 'trig', 'platelet', 'protime', 'edema_0.5', 'edema_1.0', 'stage_2.0', 'stage_3.0', 'stage_4.0']\n",
    "There are 22 columns\n",
    "```"
   ]
  },
  {
   "cell_type": "markdown",
   "metadata": {},
   "source": [
    "### Look for new features\n",
    "Now, let's take a peek at one of the transformed data sets. Do you notice any new features?"
   ]
  },
  {
   "cell_type": "code",
   "execution_count": 9,
   "metadata": {
    "colab": {
     "base_uri": "https://localhost:8080/",
     "height": 241
    },
    "colab_type": "code",
    "id": "w8EG8A9gXcpu",
    "outputId": "384d9ade-2c96-4979-d3b7-da2b8e50f2e0"
   },
   "outputs": [
    {
     "name": "stdout",
     "output_type": "stream",
     "text": [
      "(154, 22)\n"
     ]
    },
    {
     "data": {
      "text/html": [
       "<div>\n",
       "<style scoped>\n",
       "    .dataframe tbody tr th:only-of-type {\n",
       "        vertical-align: middle;\n",
       "    }\n",
       "\n",
       "    .dataframe tbody tr th {\n",
       "        vertical-align: top;\n",
       "    }\n",
       "\n",
       "    .dataframe thead th {\n",
       "        text-align: right;\n",
       "    }\n",
       "</style>\n",
       "<table border=\"1\" class=\"dataframe\">\n",
       "  <thead>\n",
       "    <tr style=\"text-align: right;\">\n",
       "      <th></th>\n",
       "      <th>time</th>\n",
       "      <th>status</th>\n",
       "      <th>trt</th>\n",
       "      <th>age</th>\n",
       "      <th>sex</th>\n",
       "      <th>ascites</th>\n",
       "      <th>hepato</th>\n",
       "      <th>spiders</th>\n",
       "      <th>bili</th>\n",
       "      <th>chol</th>\n",
       "      <th>...</th>\n",
       "      <th>alk.phos</th>\n",
       "      <th>ast</th>\n",
       "      <th>trig</th>\n",
       "      <th>platelet</th>\n",
       "      <th>protime</th>\n",
       "      <th>edema_0.5</th>\n",
       "      <th>edema_1.0</th>\n",
       "      <th>stage_2.0</th>\n",
       "      <th>stage_3.0</th>\n",
       "      <th>stage_4.0</th>\n",
       "    </tr>\n",
       "  </thead>\n",
       "  <tbody>\n",
       "    <tr>\n",
       "      <th>279</th>\n",
       "      <td>3.868493</td>\n",
       "      <td>0.0</td>\n",
       "      <td>0.0</td>\n",
       "      <td>46.154689</td>\n",
       "      <td>0.0</td>\n",
       "      <td>0.0</td>\n",
       "      <td>0.0</td>\n",
       "      <td>0.0</td>\n",
       "      <td>1.6</td>\n",
       "      <td>325.0</td>\n",
       "      <td>...</td>\n",
       "      <td>2583.0</td>\n",
       "      <td>142.00</td>\n",
       "      <td>140.0</td>\n",
       "      <td>284.0</td>\n",
       "      <td>9.6</td>\n",
       "      <td>0.0</td>\n",
       "      <td>0.0</td>\n",
       "      <td>0.0</td>\n",
       "      <td>1.0</td>\n",
       "      <td>0.0</td>\n",
       "    </tr>\n",
       "    <tr>\n",
       "      <th>137</th>\n",
       "      <td>3.553425</td>\n",
       "      <td>1.0</td>\n",
       "      <td>0.0</td>\n",
       "      <td>51.249829</td>\n",
       "      <td>1.0</td>\n",
       "      <td>0.0</td>\n",
       "      <td>1.0</td>\n",
       "      <td>0.0</td>\n",
       "      <td>7.3</td>\n",
       "      <td>426.0</td>\n",
       "      <td>...</td>\n",
       "      <td>2424.0</td>\n",
       "      <td>145.70</td>\n",
       "      <td>218.0</td>\n",
       "      <td>252.0</td>\n",
       "      <td>10.5</td>\n",
       "      <td>0.0</td>\n",
       "      <td>0.0</td>\n",
       "      <td>0.0</td>\n",
       "      <td>1.0</td>\n",
       "      <td>0.0</td>\n",
       "    </tr>\n",
       "    <tr>\n",
       "      <th>249</th>\n",
       "      <td>4.846575</td>\n",
       "      <td>0.0</td>\n",
       "      <td>1.0</td>\n",
       "      <td>40.791239</td>\n",
       "      <td>0.0</td>\n",
       "      <td>0.0</td>\n",
       "      <td>1.0</td>\n",
       "      <td>0.0</td>\n",
       "      <td>0.6</td>\n",
       "      <td>299.0</td>\n",
       "      <td>...</td>\n",
       "      <td>2769.0</td>\n",
       "      <td>220.10</td>\n",
       "      <td>85.0</td>\n",
       "      <td>303.0</td>\n",
       "      <td>10.9</td>\n",
       "      <td>0.0</td>\n",
       "      <td>0.0</td>\n",
       "      <td>0.0</td>\n",
       "      <td>0.0</td>\n",
       "      <td>1.0</td>\n",
       "    </tr>\n",
       "    <tr>\n",
       "      <th>266</th>\n",
       "      <td>0.490411</td>\n",
       "      <td>1.0</td>\n",
       "      <td>0.0</td>\n",
       "      <td>70.907598</td>\n",
       "      <td>0.0</td>\n",
       "      <td>1.0</td>\n",
       "      <td>1.0</td>\n",
       "      <td>1.0</td>\n",
       "      <td>6.6</td>\n",
       "      <td>222.0</td>\n",
       "      <td>...</td>\n",
       "      <td>620.0</td>\n",
       "      <td>106.00</td>\n",
       "      <td>91.0</td>\n",
       "      <td>195.0</td>\n",
       "      <td>12.1</td>\n",
       "      <td>0.0</td>\n",
       "      <td>1.0</td>\n",
       "      <td>0.0</td>\n",
       "      <td>0.0</td>\n",
       "      <td>1.0</td>\n",
       "    </tr>\n",
       "    <tr>\n",
       "      <th>1</th>\n",
       "      <td>12.328767</td>\n",
       "      <td>0.0</td>\n",
       "      <td>0.0</td>\n",
       "      <td>56.446270</td>\n",
       "      <td>0.0</td>\n",
       "      <td>0.0</td>\n",
       "      <td>1.0</td>\n",
       "      <td>1.0</td>\n",
       "      <td>1.1</td>\n",
       "      <td>302.0</td>\n",
       "      <td>...</td>\n",
       "      <td>7394.8</td>\n",
       "      <td>113.52</td>\n",
       "      <td>88.0</td>\n",
       "      <td>221.0</td>\n",
       "      <td>10.6</td>\n",
       "      <td>0.0</td>\n",
       "      <td>0.0</td>\n",
       "      <td>0.0</td>\n",
       "      <td>1.0</td>\n",
       "      <td>0.0</td>\n",
       "    </tr>\n",
       "  </tbody>\n",
       "</table>\n",
       "<p>5 rows × 22 columns</p>\n",
       "</div>"
      ],
      "text/plain": [
       "          time  status  trt        age  sex  ascites  hepato  spiders  bili  \\\n",
       "279   3.868493     0.0  0.0  46.154689  0.0      0.0     0.0      0.0   1.6   \n",
       "137   3.553425     1.0  0.0  51.249829  1.0      0.0     1.0      0.0   7.3   \n",
       "249   4.846575     0.0  1.0  40.791239  0.0      0.0     1.0      0.0   0.6   \n",
       "266   0.490411     1.0  0.0  70.907598  0.0      1.0     1.0      1.0   6.6   \n",
       "1    12.328767     0.0  0.0  56.446270  0.0      0.0     1.0      1.0   1.1   \n",
       "\n",
       "      chol  ...  alk.phos     ast   trig  platelet  protime  edema_0.5  \\\n",
       "279  325.0  ...    2583.0  142.00  140.0     284.0      9.6        0.0   \n",
       "137  426.0  ...    2424.0  145.70  218.0     252.0     10.5        0.0   \n",
       "249  299.0  ...    2769.0  220.10   85.0     303.0     10.9        0.0   \n",
       "266  222.0  ...     620.0  106.00   91.0     195.0     12.1        0.0   \n",
       "1    302.0  ...    7394.8  113.52   88.0     221.0     10.6        0.0   \n",
       "\n",
       "     edema_1.0  stage_2.0  stage_3.0  stage_4.0  \n",
       "279        0.0        0.0        1.0        0.0  \n",
       "137        0.0        0.0        1.0        0.0  \n",
       "249        0.0        0.0        0.0        1.0  \n",
       "266        1.0        0.0        0.0        1.0  \n",
       "1          0.0        0.0        1.0        0.0  \n",
       "\n",
       "[5 rows x 22 columns]"
      ]
     },
     "execution_count": 9,
     "metadata": {},
     "output_type": "execute_result"
    }
   ],
   "source": [
    "print(one_hot_train.shape)\n",
    "one_hot_train.head()"
   ]
  },
  {
   "cell_type": "markdown",
   "metadata": {
    "colab_type": "text",
    "id": "hNxuymLwyjqM"
   },
   "source": [
    "<a name='5'></a>\n",
    "## 5. Fitting and Interpreting a Cox Model"
   ]
  },
  {
   "cell_type": "markdown",
   "metadata": {
    "colab_type": "text",
    "id": "ygiFcUKcAFQk"
   },
   "source": [
    "Run the following cell to fit your Cox Proportional Hazards model using the `lifelines` package."
   ]
  },
  {
   "cell_type": "code",
   "execution_count": 10,
   "metadata": {
    "colab": {
     "base_uri": "https://localhost:8080/",
     "height": 34
    },
    "colab_type": "code",
    "id": "dDCS7p3xjbXB",
    "outputId": "41b12f82-8b35-43e1-d2a9-05258ac50b20"
   },
   "outputs": [
    {
     "data": {
      "text/plain": [
       "<lifelines.CoxPHFitter: fitted with 154 total observations, 90 right-censored observations>"
      ]
     },
     "execution_count": 10,
     "metadata": {},
     "output_type": "execute_result"
    }
   ],
   "source": [
    "cph = CoxPHFitter()\n",
    "cph.fit(one_hot_train, duration_col = 'time', event_col = 'status', step_size=0.1)"
   ]
  },
  {
   "cell_type": "markdown",
   "metadata": {
    "colab_type": "text",
    "id": "5MUITR0QANDH"
   },
   "source": [
    "You can use `cph.print_summary()` to view the coefficients associated with each covariate as well as confidence intervals. "
   ]
  },
  {
   "cell_type": "code",
   "execution_count": 11,
   "metadata": {
    "colab": {
     "base_uri": "https://localhost:8080/",
     "height": 903
    },
    "colab_type": "code",
    "id": "fH5AZs8vjcEv",
    "outputId": "5429f7d5-5669-431f-a014-cf609c90997f"
   },
   "outputs": [
    {
     "data": {
      "text/html": [
       "<div>\n",
       "<style scoped>\n",
       "    .dataframe tbody tr th:only-of-type {\n",
       "        vertical-align: middle;\n",
       "    }\n",
       "\n",
       "    .dataframe tbody tr th {\n",
       "        vertical-align: top;\n",
       "    }\n",
       "\n",
       "    .dataframe thead th {\n",
       "        text-align: right;\n",
       "    }\n",
       "</style>\n",
       "<table border=\"1\" class=\"dataframe\">\n",
       "  <tbody>\n",
       "    <tr>\n",
       "      <th>model</th>\n",
       "      <td>lifelines.CoxPHFitter</td>\n",
       "    </tr>\n",
       "    <tr>\n",
       "      <th>duration col</th>\n",
       "      <td>'time'</td>\n",
       "    </tr>\n",
       "    <tr>\n",
       "      <th>event col</th>\n",
       "      <td>'status'</td>\n",
       "    </tr>\n",
       "    <tr>\n",
       "      <th>baseline estimation</th>\n",
       "      <td>breslow</td>\n",
       "    </tr>\n",
       "    <tr>\n",
       "      <th>number of observations</th>\n",
       "      <td>154</td>\n",
       "    </tr>\n",
       "    <tr>\n",
       "      <th>number of events observed</th>\n",
       "      <td>64</td>\n",
       "    </tr>\n",
       "    <tr>\n",
       "      <th>partial log-likelihood</th>\n",
       "      <td>-230.82</td>\n",
       "    </tr>\n",
       "    <tr>\n",
       "      <th>time fit was run</th>\n",
       "      <td>2020-11-10 09:57:32 UTC</td>\n",
       "    </tr>\n",
       "  </tbody>\n",
       "</table>\n",
       "</div><table border=\"1\" class=\"dataframe\">\n",
       "  <thead>\n",
       "    <tr style=\"text-align: right;\">\n",
       "      <th style=\"min-width: 12px;\"></th>\n",
       "      <th style=\"min-width: 12px;\">coef</th>\n",
       "      <th style=\"min-width: 12px;\">exp(coef)</th>\n",
       "      <th style=\"min-width: 12px;\">se(coef)</th>\n",
       "      <th style=\"min-width: 12px;\">coef lower 95%</th>\n",
       "      <th style=\"min-width: 12px;\">coef upper 95%</th>\n",
       "      <th style=\"min-width: 12px;\">exp(coef) lower 95%</th>\n",
       "      <th style=\"min-width: 12px;\">exp(coef) upper 95%</th>\n",
       "      <th style=\"min-width: 12px;\">z</th>\n",
       "      <th style=\"min-width: 12px;\">p</th>\n",
       "      <th style=\"min-width: 12px;\">-log2(p)</th>\n",
       "    </tr>\n",
       "  </thead>\n",
       "  <tbody>\n",
       "    <tr>\n",
       "      <th>trt</th>\n",
       "      <td>-0.22</td>\n",
       "      <td>0.80</td>\n",
       "      <td>0.30</td>\n",
       "      <td>-0.82</td>\n",
       "      <td>0.37</td>\n",
       "      <td>0.44</td>\n",
       "      <td>1.45</td>\n",
       "      <td>-0.73</td>\n",
       "      <td>0.46</td>\n",
       "      <td>1.11</td>\n",
       "    </tr>\n",
       "    <tr>\n",
       "      <th>age</th>\n",
       "      <td>0.02</td>\n",
       "      <td>1.02</td>\n",
       "      <td>0.02</td>\n",
       "      <td>-0.01</td>\n",
       "      <td>0.06</td>\n",
       "      <td>0.99</td>\n",
       "      <td>1.06</td>\n",
       "      <td>1.26</td>\n",
       "      <td>0.21</td>\n",
       "      <td>2.27</td>\n",
       "    </tr>\n",
       "    <tr>\n",
       "      <th>sex</th>\n",
       "      <td>0.34</td>\n",
       "      <td>1.41</td>\n",
       "      <td>0.40</td>\n",
       "      <td>-0.45</td>\n",
       "      <td>1.14</td>\n",
       "      <td>0.64</td>\n",
       "      <td>3.11</td>\n",
       "      <td>0.84</td>\n",
       "      <td>0.40</td>\n",
       "      <td>1.33</td>\n",
       "    </tr>\n",
       "    <tr>\n",
       "      <th>ascites</th>\n",
       "      <td>-0.10</td>\n",
       "      <td>0.91</td>\n",
       "      <td>0.56</td>\n",
       "      <td>-1.20</td>\n",
       "      <td>1.01</td>\n",
       "      <td>0.30</td>\n",
       "      <td>2.75</td>\n",
       "      <td>-0.17</td>\n",
       "      <td>0.86</td>\n",
       "      <td>0.21</td>\n",
       "    </tr>\n",
       "    <tr>\n",
       "      <th>hepato</th>\n",
       "      <td>0.31</td>\n",
       "      <td>1.36</td>\n",
       "      <td>0.38</td>\n",
       "      <td>-0.44</td>\n",
       "      <td>1.06</td>\n",
       "      <td>0.64</td>\n",
       "      <td>2.89</td>\n",
       "      <td>0.81</td>\n",
       "      <td>0.42</td>\n",
       "      <td>1.26</td>\n",
       "    </tr>\n",
       "    <tr>\n",
       "      <th>spiders</th>\n",
       "      <td>-0.18</td>\n",
       "      <td>0.83</td>\n",
       "      <td>0.38</td>\n",
       "      <td>-0.94</td>\n",
       "      <td>0.57</td>\n",
       "      <td>0.39</td>\n",
       "      <td>1.77</td>\n",
       "      <td>-0.47</td>\n",
       "      <td>0.64</td>\n",
       "      <td>0.66</td>\n",
       "    </tr>\n",
       "    <tr>\n",
       "      <th>bili</th>\n",
       "      <td>0.01</td>\n",
       "      <td>1.01</td>\n",
       "      <td>0.04</td>\n",
       "      <td>-0.06</td>\n",
       "      <td>0.08</td>\n",
       "      <td>0.94</td>\n",
       "      <td>1.09</td>\n",
       "      <td>0.29</td>\n",
       "      <td>0.77</td>\n",
       "      <td>0.37</td>\n",
       "    </tr>\n",
       "    <tr>\n",
       "      <th>chol</th>\n",
       "      <td>0.00</td>\n",
       "      <td>1.00</td>\n",
       "      <td>0.00</td>\n",
       "      <td>-0.00</td>\n",
       "      <td>0.00</td>\n",
       "      <td>1.00</td>\n",
       "      <td>1.00</td>\n",
       "      <td>1.28</td>\n",
       "      <td>0.20</td>\n",
       "      <td>2.33</td>\n",
       "    </tr>\n",
       "    <tr>\n",
       "      <th>albumin</th>\n",
       "      <td>-0.97</td>\n",
       "      <td>0.38</td>\n",
       "      <td>0.43</td>\n",
       "      <td>-1.81</td>\n",
       "      <td>-0.14</td>\n",
       "      <td>0.16</td>\n",
       "      <td>0.87</td>\n",
       "      <td>-2.28</td>\n",
       "      <td>0.02</td>\n",
       "      <td>5.46</td>\n",
       "    </tr>\n",
       "    <tr>\n",
       "      <th>copper</th>\n",
       "      <td>0.00</td>\n",
       "      <td>1.00</td>\n",
       "      <td>0.00</td>\n",
       "      <td>-0.00</td>\n",
       "      <td>0.01</td>\n",
       "      <td>1.00</td>\n",
       "      <td>1.01</td>\n",
       "      <td>1.91</td>\n",
       "      <td>0.06</td>\n",
       "      <td>4.14</td>\n",
       "    </tr>\n",
       "    <tr>\n",
       "      <th>alk.phos</th>\n",
       "      <td>-0.00</td>\n",
       "      <td>1.00</td>\n",
       "      <td>0.00</td>\n",
       "      <td>-0.00</td>\n",
       "      <td>0.00</td>\n",
       "      <td>1.00</td>\n",
       "      <td>1.00</td>\n",
       "      <td>-1.62</td>\n",
       "      <td>0.11</td>\n",
       "      <td>3.24</td>\n",
       "    </tr>\n",
       "    <tr>\n",
       "      <th>ast</th>\n",
       "      <td>0.00</td>\n",
       "      <td>1.00</td>\n",
       "      <td>0.00</td>\n",
       "      <td>-0.00</td>\n",
       "      <td>0.01</td>\n",
       "      <td>1.00</td>\n",
       "      <td>1.01</td>\n",
       "      <td>1.34</td>\n",
       "      <td>0.18</td>\n",
       "      <td>2.48</td>\n",
       "    </tr>\n",
       "    <tr>\n",
       "      <th>trig</th>\n",
       "      <td>0.00</td>\n",
       "      <td>1.00</td>\n",
       "      <td>0.00</td>\n",
       "      <td>-0.00</td>\n",
       "      <td>0.01</td>\n",
       "      <td>1.00</td>\n",
       "      <td>1.01</td>\n",
       "      <td>1.27</td>\n",
       "      <td>0.21</td>\n",
       "      <td>2.28</td>\n",
       "    </tr>\n",
       "    <tr>\n",
       "      <th>platelet</th>\n",
       "      <td>0.00</td>\n",
       "      <td>1.00</td>\n",
       "      <td>0.00</td>\n",
       "      <td>-0.00</td>\n",
       "      <td>0.00</td>\n",
       "      <td>1.00</td>\n",
       "      <td>1.00</td>\n",
       "      <td>0.92</td>\n",
       "      <td>0.36</td>\n",
       "      <td>1.48</td>\n",
       "    </tr>\n",
       "    <tr>\n",
       "      <th>protime</th>\n",
       "      <td>0.36</td>\n",
       "      <td>1.43</td>\n",
       "      <td>0.17</td>\n",
       "      <td>0.03</td>\n",
       "      <td>0.69</td>\n",
       "      <td>1.03</td>\n",
       "      <td>1.99</td>\n",
       "      <td>2.15</td>\n",
       "      <td>0.03</td>\n",
       "      <td>4.97</td>\n",
       "    </tr>\n",
       "    <tr>\n",
       "      <th>edema_0.5</th>\n",
       "      <td>1.24</td>\n",
       "      <td>3.47</td>\n",
       "      <td>0.46</td>\n",
       "      <td>0.35</td>\n",
       "      <td>2.14</td>\n",
       "      <td>1.42</td>\n",
       "      <td>8.50</td>\n",
       "      <td>2.72</td>\n",
       "      <td>0.01</td>\n",
       "      <td>7.28</td>\n",
       "    </tr>\n",
       "    <tr>\n",
       "      <th>edema_1.0</th>\n",
       "      <td>2.02</td>\n",
       "      <td>7.51</td>\n",
       "      <td>0.60</td>\n",
       "      <td>0.84</td>\n",
       "      <td>3.20</td>\n",
       "      <td>2.31</td>\n",
       "      <td>24.43</td>\n",
       "      <td>3.35</td>\n",
       "      <td>&lt;0.005</td>\n",
       "      <td>10.28</td>\n",
       "    </tr>\n",
       "    <tr>\n",
       "      <th>stage_2.0</th>\n",
       "      <td>1.21</td>\n",
       "      <td>3.35</td>\n",
       "      <td>1.08</td>\n",
       "      <td>-0.92</td>\n",
       "      <td>3.33</td>\n",
       "      <td>0.40</td>\n",
       "      <td>28.06</td>\n",
       "      <td>1.11</td>\n",
       "      <td>0.27</td>\n",
       "      <td>1.91</td>\n",
       "    </tr>\n",
       "    <tr>\n",
       "      <th>stage_3.0</th>\n",
       "      <td>1.18</td>\n",
       "      <td>3.27</td>\n",
       "      <td>1.09</td>\n",
       "      <td>-0.96</td>\n",
       "      <td>3.33</td>\n",
       "      <td>0.38</td>\n",
       "      <td>27.86</td>\n",
       "      <td>1.08</td>\n",
       "      <td>0.28</td>\n",
       "      <td>1.84</td>\n",
       "    </tr>\n",
       "    <tr>\n",
       "      <th>stage_4.0</th>\n",
       "      <td>1.41</td>\n",
       "      <td>4.10</td>\n",
       "      <td>1.15</td>\n",
       "      <td>-0.85</td>\n",
       "      <td>3.67</td>\n",
       "      <td>0.43</td>\n",
       "      <td>39.43</td>\n",
       "      <td>1.22</td>\n",
       "      <td>0.22</td>\n",
       "      <td>2.18</td>\n",
       "    </tr>\n",
       "  </tbody>\n",
       "</table><br><div>\n",
       "<style scoped>\n",
       "    .dataframe tbody tr th:only-of-type {\n",
       "        vertical-align: middle;\n",
       "    }\n",
       "\n",
       "    .dataframe tbody tr th {\n",
       "        vertical-align: top;\n",
       "    }\n",
       "\n",
       "    .dataframe thead th {\n",
       "        text-align: right;\n",
       "    }\n",
       "</style>\n",
       "<table border=\"1\" class=\"dataframe\">\n",
       "  <tbody>\n",
       "    <tr>\n",
       "      <th>Concordance</th>\n",
       "      <td>0.83</td>\n",
       "    </tr>\n",
       "    <tr>\n",
       "      <th>Partial AIC</th>\n",
       "      <td>501.64</td>\n",
       "    </tr>\n",
       "    <tr>\n",
       "      <th>log-likelihood ratio test</th>\n",
       "      <td>97.63 on 20 df</td>\n",
       "    </tr>\n",
       "    <tr>\n",
       "      <th>-log2(p) of ll-ratio test</th>\n",
       "      <td>38.13</td>\n",
       "    </tr>\n",
       "  </tbody>\n",
       "</table>\n",
       "</div>"
      ],
      "text/latex": [
       "\\begin{tabular}{lrrrrrrrrrr}\n",
       "\\toprule\n",
       "{} &  coef &  exp(coef) &  se(coef) &  coef lower 95\\% &  coef upper 95\\% &  exp(coef) lower 95\\% &  exp(coef) upper 95\\% &     z &    p &  -log2(p) \\\\\n",
       "covariate &       &            &           &                 &                 &                      &                      &       &      &           \\\\\n",
       "\\midrule\n",
       "trt       & -0.22 &       0.80 &      0.30 &           -0.82 &            0.37 &                 0.44 &                 1.45 & -0.73 & 0.46 &      1.11 \\\\\n",
       "age       &  0.02 &       1.02 &      0.02 &           -0.01 &            0.06 &                 0.99 &                 1.06 &  1.26 & 0.21 &      2.27 \\\\\n",
       "sex       &  0.34 &       1.41 &      0.40 &           -0.45 &            1.14 &                 0.64 &                 3.11 &  0.84 & 0.40 &      1.33 \\\\\n",
       "ascites   & -0.10 &       0.91 &      0.56 &           -1.20 &            1.01 &                 0.30 &                 2.75 & -0.17 & 0.86 &      0.21 \\\\\n",
       "hepato    &  0.31 &       1.36 &      0.38 &           -0.44 &            1.06 &                 0.64 &                 2.89 &  0.81 & 0.42 &      1.26 \\\\\n",
       "spiders   & -0.18 &       0.83 &      0.38 &           -0.94 &            0.57 &                 0.39 &                 1.77 & -0.47 & 0.64 &      0.66 \\\\\n",
       "bili      &  0.01 &       1.01 &      0.04 &           -0.06 &            0.08 &                 0.94 &                 1.09 &  0.29 & 0.77 &      0.37 \\\\\n",
       "chol      &  0.00 &       1.00 &      0.00 &           -0.00 &            0.00 &                 1.00 &                 1.00 &  1.28 & 0.20 &      2.33 \\\\\n",
       "albumin   & -0.97 &       0.38 &      0.43 &           -1.81 &           -0.14 &                 0.16 &                 0.87 & -2.28 & 0.02 &      5.46 \\\\\n",
       "copper    &  0.00 &       1.00 &      0.00 &           -0.00 &            0.01 &                 1.00 &                 1.01 &  1.91 & 0.06 &      4.14 \\\\\n",
       "alk.phos  & -0.00 &       1.00 &      0.00 &           -0.00 &            0.00 &                 1.00 &                 1.00 & -1.62 & 0.11 &      3.24 \\\\\n",
       "ast       &  0.00 &       1.00 &      0.00 &           -0.00 &            0.01 &                 1.00 &                 1.01 &  1.34 & 0.18 &      2.48 \\\\\n",
       "trig      &  0.00 &       1.00 &      0.00 &           -0.00 &            0.01 &                 1.00 &                 1.01 &  1.27 & 0.21 &      2.28 \\\\\n",
       "platelet  &  0.00 &       1.00 &      0.00 &           -0.00 &            0.00 &                 1.00 &                 1.00 &  0.92 & 0.36 &      1.48 \\\\\n",
       "protime   &  0.36 &       1.43 &      0.17 &            0.03 &            0.69 &                 1.03 &                 1.99 &  2.15 & 0.03 &      4.97 \\\\\n",
       "edema\\_0.5 &  1.24 &       3.47 &      0.46 &            0.35 &            2.14 &                 1.42 &                 8.50 &  2.72 & 0.01 &      7.28 \\\\\n",
       "edema\\_1.0 &  2.02 &       7.51 &      0.60 &            0.84 &            3.20 &                 2.31 &                24.43 &  3.35 & 0.00 &     10.28 \\\\\n",
       "stage\\_2.0 &  1.21 &       3.35 &      1.08 &           -0.92 &            3.33 &                 0.40 &                28.06 &  1.11 & 0.27 &      1.91 \\\\\n",
       "stage\\_3.0 &  1.18 &       3.27 &      1.09 &           -0.96 &            3.33 &                 0.38 &                27.86 &  1.08 & 0.28 &      1.84 \\\\\n",
       "stage\\_4.0 &  1.41 &       4.10 &      1.15 &           -0.85 &            3.67 &                 0.43 &                39.43 &  1.22 & 0.22 &      2.18 \\\\\n",
       "\\bottomrule\n",
       "\\end{tabular}\n"
      ],
      "text/plain": [
       "<lifelines.CoxPHFitter: fitted with 154 total observations, 90 right-censored observations>\n",
       "             duration col = 'time'\n",
       "                event col = 'status'\n",
       "      baseline estimation = breslow\n",
       "   number of observations = 154\n",
       "number of events observed = 64\n",
       "   partial log-likelihood = -230.82\n",
       "         time fit was run = 2020-11-10 09:57:32 UTC\n",
       "\n",
       "---\n",
       "            coef  exp(coef)   se(coef)   coef lower 95%   coef upper 95%  exp(coef) lower 95%  exp(coef) upper 95%\n",
       "covariate                                                                                                         \n",
       "trt        -0.22       0.80       0.30            -0.82             0.37                 0.44                 1.45\n",
       "age         0.02       1.02       0.02            -0.01             0.06                 0.99                 1.06\n",
       "sex         0.34       1.41       0.40            -0.45             1.14                 0.64                 3.11\n",
       "ascites    -0.10       0.91       0.56            -1.20             1.01                 0.30                 2.75\n",
       "hepato      0.31       1.36       0.38            -0.44             1.06                 0.64                 2.89\n",
       "spiders    -0.18       0.83       0.38            -0.94             0.57                 0.39                 1.77\n",
       "bili        0.01       1.01       0.04            -0.06             0.08                 0.94                 1.09\n",
       "chol        0.00       1.00       0.00            -0.00             0.00                 1.00                 1.00\n",
       "albumin    -0.97       0.38       0.43            -1.81            -0.14                 0.16                 0.87\n",
       "copper      0.00       1.00       0.00            -0.00             0.01                 1.00                 1.01\n",
       "alk.phos   -0.00       1.00       0.00            -0.00             0.00                 1.00                 1.00\n",
       "ast         0.00       1.00       0.00            -0.00             0.01                 1.00                 1.01\n",
       "trig        0.00       1.00       0.00            -0.00             0.01                 1.00                 1.01\n",
       "platelet    0.00       1.00       0.00            -0.00             0.00                 1.00                 1.00\n",
       "protime     0.36       1.43       0.17             0.03             0.69                 1.03                 1.99\n",
       "edema_0.5   1.24       3.47       0.46             0.35             2.14                 1.42                 8.50\n",
       "edema_1.0   2.02       7.51       0.60             0.84             3.20                 2.31                24.43\n",
       "stage_2.0   1.21       3.35       1.08            -0.92             3.33                 0.40                28.06\n",
       "stage_3.0   1.18       3.27       1.09            -0.96             3.33                 0.38                27.86\n",
       "stage_4.0   1.41       4.10       1.15            -0.85             3.67                 0.43                39.43\n",
       "\n",
       "              z      p   -log2(p)\n",
       "covariate                        \n",
       "trt       -0.73   0.46       1.11\n",
       "age        1.26   0.21       2.27\n",
       "sex        0.84   0.40       1.33\n",
       "ascites   -0.17   0.86       0.21\n",
       "hepato     0.81   0.42       1.26\n",
       "spiders   -0.47   0.64       0.66\n",
       "bili       0.29   0.77       0.37\n",
       "chol       1.28   0.20       2.33\n",
       "albumin   -2.28   0.02       5.46\n",
       "copper     1.91   0.06       4.14\n",
       "alk.phos  -1.62   0.11       3.24\n",
       "ast        1.34   0.18       2.48\n",
       "trig       1.27   0.21       2.28\n",
       "platelet   0.92   0.36       1.48\n",
       "protime    2.15   0.03       4.97\n",
       "edema_0.5  2.72   0.01       7.28\n",
       "edema_1.0  3.35 <0.005      10.28\n",
       "stage_2.0  1.11   0.27       1.91\n",
       "stage_3.0  1.08   0.28       1.84\n",
       "stage_4.0  1.22   0.22       2.18\n",
       "---\n",
       "Concordance = 0.83\n",
       "Partial AIC = 501.64\n",
       "log-likelihood ratio test = 97.63 on 20 df\n",
       "-log2(p) of ll-ratio test = 38.13"
      ]
     },
     "metadata": {},
     "output_type": "display_data"
    }
   ],
   "source": [
    "cph.print_summary()"
   ]
  },
  {
   "cell_type": "markdown",
   "metadata": {
    "colab_type": "text",
    "id": "Eo4W0bIU6akp"
   },
   "source": [
    "**Question:**\n",
    "\n",
    "- According to the model, was treatment `trt` beneficial? \n",
    "- What was its associated hazard ratio? \n",
    "    - Note that the hazard ratio is how much an incremental increase in the feature variable changes the hazard."
   ]
  },
  {
   "cell_type": "markdown",
   "metadata": {},
   "source": [
    "<details>    \n",
    "<summary>\n",
    "    <font size=\"3\" color=\"darkgreen\"><b>Check your answer!</b></font>\n",
    "</summary>\n",
    "<p>\n",
    "<ul>\n",
    "<ul>\n",
    "    <li>You should see that the treatment (trt) was beneficial because it has a negative impact on the hazard (the coefficient is negative, and exp(coef) is less than 1).</li>\n",
    "    <li>The associated hazard ratio is ~0.8, because this is the exp(coef) of treatment.</li>\n",
    "</ul>\n",
    "</p>"
   ]
  },
  {
   "cell_type": "markdown",
   "metadata": {},
   "source": [
    "We can compare the predicted survival curves for treatment variables. Run the next cell to plot survival curves using the `plot_covariate_groups()` function. \n",
    "\n",
    "- The y-axis is th survival rate\n",
    "- The x-axis is time"
   ]
  },
  {
   "cell_type": "code",
   "execution_count": 13,
   "metadata": {
    "colab": {
     "base_uri": "https://localhost:8080/",
     "height": 282
    },
    "colab_type": "code",
    "id": "Uxl0icyBS4Dr",
    "outputId": "5fa08369-e89e-424f-f9f0-60cf7a1cfbcd"
   },
   "outputs": [
    {
     "data": {
      "image/png": "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\n",
      "text/plain": [
       "<Figure size 432x288 with 1 Axes>"
      ]
     },
     "metadata": {
      "needs_background": "light"
     },
     "output_type": "display_data"
    }
   ],
   "source": [
    "cph.plot_partial_effects_on_outcome ('trt', values=[0, 1]);"
   ]
  },
  {
   "cell_type": "markdown",
   "metadata": {},
   "source": [
    "Notice how the group without treatment has a lower survival rate at all times (the x-axis is time) compared to the treatment group."
   ]
  },
  {
   "cell_type": "markdown",
   "metadata": {},
   "source": [
    "<a name='6'></a>\n",
    "## 6. Hazard Ratio\n",
    "\n",
    "Recall from the lecture videos that the Hazard Ratio between two patients was the likelihood of one patient (e.g smoker) being more at risk than the other (e.g non-smoker).\n",
    "$$\n",
    "\\frac{\\lambda_{smoker}(t)}{\\lambda_{nonsmoker}(t)} = e^{\\theta (X_{smoker} - X_{nonsmoker})^T}\n",
    "$$\n",
    "\n",
    "Where\n",
    "\n",
    "$$\n",
    "\\lambda_{smoker}(t) = \\lambda_0(t)e^{\\theta X_{smoker}^T}\n",
    "$$\n",
    "and\n",
    "$$\n",
    "\\lambda_{nonsmoker}(t) = \\lambda_0(t)e^{\\theta X_{nonsmoker}^T} \\\\\n",
    "$$\n",
    "\n",
    "In the cell below, write a function to compute the hazard ratio between two individuals given the model's coefficients."
   ]
  },
  {
   "cell_type": "markdown",
   "metadata": {},
   "source": [
    "<a name='Ex-2'></a>\n",
    "### Exercise 2\n",
    "In the cell below, write a function to compute the hazard ratio between two individuals given the model's coefficients."
   ]
  },
  {
   "cell_type": "markdown",
   "metadata": {},
   "source": [
    "<details>    \n",
    "<summary>\n",
    "    <font size=\"3\" color=\"darkgreen\"><b>Hints</b></font>\n",
    "</summary>\n",
    "<p>\n",
    "<ul>\n",
    "    <li>use numpy.dot</li>\n",
    "    <li>use nump.exp</li>\n",
    "</ul>\n",
    "</p>\n"
   ]
  },
  {
   "cell_type": "markdown",
   "metadata": {
    "colab_type": "text",
    "id": "l0Y49UBuRgoZ"
   },
   "source": [
    "### Solution"
   ]
  },
  {
   "cell_type": "code",
   "execution_count": 14,
   "metadata": {
    "colab": {},
    "colab_type": "code",
    "id": "WbBmxbeDA3k1"
   },
   "outputs": [],
   "source": [
    "# UNQ_C2 (UNIQUE CELL IDENTIFIER, DO NOT EDIT)\n",
    "def hazard_ratio(case_1, case_2, cox_params):\n",
    "    '''\n",
    "    Return the hazard ratio of case_1 : case_2 using\n",
    "    the coefficients of the cox model.\n",
    "    \n",
    "    Args:\n",
    "        case_1 (np.array): (1 x d) array of covariates\n",
    "        case_2 (np.array): (1 x d) array of covariates\n",
    "        model (np.array): (1 x d) array of cox model coefficients\n",
    "    Returns:\n",
    "        hazard_ratio (float): hazard ratio of case_1 : case_2\n",
    "    '''\n",
    "    \n",
    "    ### START CODE HERE (REPLACE INSTANCES OF 'None' with your code) ###\n",
    "    \n",
    "    hr = np.exp(cox_params.dot((case_1 - case_2).T))\n",
    "    \n",
    "    ### END CODE HERE ###\n",
    "    \n",
    "    return hr"
   ]
  },
  {
   "cell_type": "markdown",
   "metadata": {
    "colab_type": "text",
    "id": "pBJi402wRhuj"
   },
   "source": [
    "### End of Solution"
   ]
  },
  {
   "cell_type": "markdown",
   "metadata": {
    "colab_type": "text",
    "id": "zbDQUxE6CcA3"
   },
   "source": [
    "Now, evaluate it on the following pair of indivduals: `i = 1` and `j = 5`"
   ]
  },
  {
   "cell_type": "code",
   "execution_count": 15,
   "metadata": {
    "colab": {},
    "colab_type": "code",
    "id": "7flsvTRXCgqO"
   },
   "outputs": [
    {
     "name": "stdout",
     "output_type": "stream",
     "text": [
      "15.029022704011828\n"
     ]
    }
   ],
   "source": [
    "i = 1\n",
    "case_1 = one_hot_train.iloc[i, :].drop(['time', 'status'])\n",
    "\n",
    "j = 5\n",
    "case_2 = one_hot_train.iloc[j, :].drop(['time', 'status'])\n",
    "\n",
    "print(hazard_ratio(case_1.values, case_2.values, cph.params_.values))"
   ]
  },
  {
   "cell_type": "markdown",
   "metadata": {},
   "source": [
    "**Expected Output:** 15.029017732492221"
   ]
  },
  {
   "cell_type": "markdown",
   "metadata": {},
   "source": [
    "**Question:** \n",
    "\n",
    "Is `case_1` or `case_2` at greater risk? "
   ]
  },
  {
   "cell_type": "markdown",
   "metadata": {},
   "source": [
    "<details>    \n",
    "<summary>\n",
    "    <font size=\"3\" color=\"darkgreen\"><b>Check your answer!</b></font>\n",
    "</summary>\n",
    "<p>\n",
    "<ul>\n",
    "<ul>\n",
    "    <li>You should see that `case_1` is at higher risk.</li>\n",
    "    <li>The hazard ratio of case 1 / case 2 is greater than 1, so case 1 had a higher hazard relative to case 2</li>\n",
    "</ul>\n",
    "</p>"
   ]
  },
  {
   "cell_type": "markdown",
   "metadata": {},
   "source": [
    "Inspect different pairs, and see if you can figure out which patient is more at risk."
   ]
  },
  {
   "cell_type": "code",
   "execution_count": 16,
   "metadata": {
    "colab": {
     "base_uri": "https://localhost:8080/",
     "height": 374
    },
    "colab_type": "code",
    "id": "g2PZ3sGvCs0K",
    "outputId": "59336868-d421-4645-d88e-76a8a8cffc9f"
   },
   "outputs": [
    {
     "name": "stdout",
     "output_type": "stream",
     "text": [
      "Case A\n",
      "\n",
      " trt             0.00000\n",
      "age            56.44627\n",
      "sex             0.00000\n",
      "ascites         0.00000\n",
      "hepato          1.00000\n",
      "spiders         1.00000\n",
      "bili            1.10000\n",
      "chol          302.00000\n",
      "albumin         4.14000\n",
      "copper         54.00000\n",
      "alk.phos     7394.80000\n",
      "ast           113.52000\n",
      "trig           88.00000\n",
      "platelet      221.00000\n",
      "protime        10.60000\n",
      "edema_0.5       0.00000\n",
      "edema_1.0       0.00000\n",
      "stage_2.0       0.00000\n",
      "stage_3.0       1.00000\n",
      "stage_4.0       0.00000\n",
      "Name: 1, dtype: float64 \n",
      "\n",
      "Case B\n",
      "\n",
      " trt             0.000000\n",
      "age            55.392197\n",
      "sex             0.000000\n",
      "ascites         0.000000\n",
      "hepato          1.000000\n",
      "spiders         0.000000\n",
      "bili            0.700000\n",
      "chol          282.000000\n",
      "albumin         3.000000\n",
      "copper         52.000000\n",
      "alk.phos     9066.800000\n",
      "ast            72.240000\n",
      "trig          111.000000\n",
      "platelet      563.000000\n",
      "protime        10.600000\n",
      "edema_0.5       0.000000\n",
      "edema_1.0       0.000000\n",
      "stage_2.0       0.000000\n",
      "stage_3.0       0.000000\n",
      "stage_4.0       1.000000\n",
      "Name: 38, dtype: float64 \n",
      "\n",
      "Hazard Ratio: 0.17804495150105062\n"
     ]
    }
   ],
   "source": [
    "i = 4\n",
    "case_a = one_hot_train.iloc[i, :].drop(['time', 'status'])\n",
    "\n",
    "j = 7\n",
    "case_b = one_hot_train.iloc[j, :].drop(['time', 'status'])\n",
    "\n",
    "print(\"Case A\\n\\n\", case_a, \"\\n\")\n",
    "print(\"Case B\\n\\n\", case_b, \"\\n\")\n",
    "print(\"Hazard Ratio:\", hazard_ratio(case_a.values, case_b.values, cph.params_.values))"
   ]
  },
  {
   "cell_type": "markdown",
   "metadata": {},
   "source": [
    "<details>    \n",
    "<summary>\n",
    "    <font size=\"3\" color=\"darkgreen\"><b>Check your answer!</b></font>\n",
    "</summary>\n",
    "<p>\n",
    "<ul>\n",
    "<ul>\n",
    "    <li>You should see that `case_2` is at higher risk.</li>\n",
    "    <li>The hazard ratio of case 1 / case 2 is less than 1, so case 2 had a higher hazard relative to case 1</li>\n",
    "</ul>\n",
    "</p>"
   ]
  },
  {
   "cell_type": "markdown",
   "metadata": {
    "colab_type": "text",
    "id": "KUa6r-KOyySp"
   },
   "source": [
    "<a name='7'></a>\n",
    "## 7. Harrell's C-index"
   ]
  },
  {
   "cell_type": "markdown",
   "metadata": {
    "colab_type": "text",
    "id": "woQAtSmRXrgr"
   },
   "source": [
    "To evaluate how good our model is performing, we will write our own version of the C-index. Similar to the week 1 case, C-index in the survival context is the probability that, given a randomly selected pair of individuals, the one who died sooner has a higher risk score. \n",
    "\n",
    "However, we need to take into account censoring. Imagine a pair of patients, $A$ and $B$. \n",
    "\n",
    "#### Scenario 1\n",
    "- A was censored at time $t_A$ \n",
    "- B died at $t_B$\n",
    "- $t_A < t_B$. \n",
    "\n",
    "Because of censoring, we can't say whether $A$ or $B$ should have a higher risk score. \n",
    "\n",
    "#### Scenario 2\n",
    "Now imagine that $t_A > t_B$.\n",
    "\n",
    "- A was censored at time $t_A$ \n",
    "- B died at $t_B$\n",
    "- $t_A > t_B$\n",
    "\n",
    "Now we can definitively say that $B$ should have a higher risk score than $A$, since we know for a fact that $A$ lived longer. \n",
    "\n",
    "Therefore, when we compute our C-index\n",
    "- We should only consider pairs where at most one person is censored\n",
    "- If they are censored, then their censored time should occur *after* the other person's time of death. \n",
    "\n",
    "The metric we get if we use this rule is called **Harrel's C-index**.\n",
    "\n",
    "Note that in this case, being censored at time $t$ means that the true death time was some time AFTER time $t$ and not at $t$. \n",
    "- Therefore if $t_A = t_B$ and A was censored:\n",
    "    - Then $A$ actually lived longer than $B$. \n",
    "    - This will effect how you deal with ties in the exercise below!\n"
   ]
  },
  {
   "cell_type": "markdown",
   "metadata": {},
   "source": [
    "<a name='Ex-3'></a>\n",
    "### Exercise 3\n",
    "Fill in the function below to compute Harrel's C-index."
   ]
  },
  {
   "cell_type": "markdown",
   "metadata": {},
   "source": [
    "<details>    \n",
    "<summary>\n",
    "    <font size=\"3\" color=\"darkgreen\"><b>Hints</b></font>\n",
    "</summary>\n",
    "<p>\n",
    "<ul>\n",
    "    <li>If you get a division by zero error, consider checking how you count when a pair is permissible (in the case where one patient is censored and the other is not censored).</li>\n",
    "</ul>\n",
    "</p>"
   ]
  },
  {
   "cell_type": "markdown",
   "metadata": {},
   "source": [
    "### Solution"
   ]
  },
  {
   "cell_type": "code",
   "execution_count": 17,
   "metadata": {},
   "outputs": [],
   "source": [
    "# UNQ_C3 (UNIQUE CELL IDENTIFIER, DO NOT EDIT)\n",
    "def harrell_c(y_true, scores, event):\n",
    "    '''\n",
    "    Compute Harrel C-index given true event/censoring times,\n",
    "    model output, and event indicators.\n",
    "    \n",
    "    Args:\n",
    "        y_true (array): array of true event times\n",
    "        scores (array): model risk scores\n",
    "        event (array): indicator, 1 if event occurred at that index, 0 for censorship\n",
    "    Returns:\n",
    "        result (float): C-index metric\n",
    "    '''\n",
    "    \n",
    "    n = len(y_true)\n",
    "    assert (len(scores) == n and len(event) == n)\n",
    "    \n",
    "    concordant = 0.0\n",
    "    permissible = 0.0\n",
    "    ties = 0.0\n",
    "    \n",
    "    result = 0.0\n",
    "    \n",
    "    ### START CODE HERE (REPLACE INSTANCES OF 'None' and 'pass' with your code) ###\n",
    "    \n",
    "    # use double for loop to go through cases\n",
    "    for i in range(n):\n",
    "        # set lower bound on j to avoid double counting\n",
    "        for j in range(i+1, n):\n",
    "            \n",
    "            # check if at most one is censored\n",
    "            if event[i] == 1 or event[j] == 1:\n",
    "                # check if neither are censored\n",
    "                if event[i] == 1 and event[j] == 1:\n",
    "                    \n",
    "                    permissible += 1.0\n",
    "                    \n",
    "                    # check if scores are tied\n",
    "                    if scores[i] == scores[j]:\n",
    "                        ties += 1.0\n",
    "                    # check for concordant\n",
    "                    elif y_true[i] < y_true[j] and scores[i] > scores[j]:\n",
    "                        concordant += 1.0\n",
    "                    elif y_true[i] > y_true[j] and scores[i] < scores[j]:\n",
    "                        concordant += 1.0\n",
    "                \n",
    "                # check if one is censored\n",
    "                elif event[i] != event[j] :   \n",
    "                    # get censored index\n",
    "                    censored = j\n",
    "                    uncensored = i\n",
    "                    \n",
    "                    if event[i] == 0:\n",
    "                        censored = i\n",
    "                        uncensored = j\n",
    "                        \n",
    "                    # check if permissible\n",
    "                    # Note: in this case, we are assuming that censored at a time\n",
    "                    # means that you did NOT die at that time. That is, if you\n",
    "                    # live until time 30 and have event = 0, then you lived THROUGH\n",
    "                    # time 30.\n",
    "                    if y_true[uncensored] <= y_true[censored]:\n",
    "                        permissible += 1.0\n",
    "                        \n",
    "                        # check if scores are tied\n",
    "                        if scores[uncensored] == scores[censored]:\n",
    "                            # update ties \n",
    "                            ties += 1.0\n",
    "                            \n",
    "                        # check if scores are concordant \n",
    "                        if scores[uncensored] > scores[censored]:\n",
    "                            concordant += 1.0\n",
    "    \n",
    "    # set result to c-index computed from number of concordant pairs,\n",
    "    # number of ties, and number of permissible pairs (REPLACE 0 with your code)  \n",
    "    result = (concordant + 0.5*ties) / permissible\n",
    "    \n",
    "    ### END CODE HERE ###\n",
    "    \n",
    "    return result   "
   ]
  },
  {
   "cell_type": "markdown",
   "metadata": {},
   "source": [
    "### End of Solution"
   ]
  },
  {
   "cell_type": "markdown",
   "metadata": {},
   "source": [
    "You can test your function on the following test cases:"
   ]
  },
  {
   "cell_type": "code",
   "execution_count": 18,
   "metadata": {},
   "outputs": [
    {
     "name": "stdout",
     "output_type": "stream",
     "text": [
      "Case 1\n",
      "Expected: 1.0, Output: 1.0\n",
      "\n",
      "Case 2\n",
      "Expected: 0.0, Output: 0.0\n",
      "\n",
      "Case 3\n",
      "Expected: 1.0, Output: 1.0\n",
      "\n",
      "Case 4\n",
      "Expected: 0.75, Output: 0.75\n",
      "\n",
      "Case 5\n",
      "Expected: 0.583, Output: 0.5833333333333334\n",
      "\n",
      "Case 6\n",
      "Expected: 1.0 , Output:1.0000\n"
     ]
    }
   ],
   "source": [
    "y_true = [30, 12, 84, 9]\n",
    "\n",
    "# Case 1\n",
    "event = [1, 1, 1, 1]\n",
    "scores = [0.5, 0.9, 0.1, 1.0]\n",
    "print(\"Case 1\")\n",
    "print(\"Expected: 1.0, Output: {}\".format(harrell_c(y_true, scores, event)))\n",
    "\n",
    "# Case 2\n",
    "scores = [0.9, 0.5, 1.0, 0.1]\n",
    "print(\"\\nCase 2\")\n",
    "print(\"Expected: 0.0, Output: {}\".format(harrell_c(y_true, scores, event)))\n",
    "\n",
    "# Case 3\n",
    "event = [1, 0, 1, 1]\n",
    "scores = [0.5, 0.9, 0.1, 1.0]\n",
    "print(\"\\nCase 3\")\n",
    "print(\"Expected: 1.0, Output: {}\".format(harrell_c(y_true, scores, event)))\n",
    "\n",
    "# Case 4\n",
    "y_true = [30, 30, 20, 20]\n",
    "event = [1, 0, 1, 0]\n",
    "scores = [10, 5, 15, 20]\n",
    "print(\"\\nCase 4\")\n",
    "print(\"Expected: 0.75, Output: {}\".format(harrell_c(y_true, scores, event)))\n",
    "\n",
    "# Case 5\n",
    "y_true = list(reversed([30, 30, 30, 20, 20]))\n",
    "event = [0, 1, 0, 1, 0]\n",
    "scores = list(reversed([15, 10, 5, 15, 20]))\n",
    "print(\"\\nCase 5\")\n",
    "print(\"Expected: 0.583, Output: {}\".format(harrell_c(y_true, scores, event)))\n",
    "\n",
    "# Case 6\n",
    "y_true = [10,10]\n",
    "event = [0,1]\n",
    "scores = [4,5]\n",
    "print(\"\\nCase 6\")\n",
    "print(f\"Expected: 1.0 , Output:{harrell_c(y_true, scores, event):.4f}\")"
   ]
  },
  {
   "cell_type": "markdown",
   "metadata": {
    "colab_type": "text",
    "id": "CtQVe4pAn8ic"
   },
   "source": [
    "Now use the Harrell's C-index function to evaluate the cox model on our data sets."
   ]
  },
  {
   "cell_type": "code",
   "execution_count": 19,
   "metadata": {
    "colab": {
     "base_uri": "https://localhost:8080/",
     "height": 34
    },
    "colab_type": "code",
    "id": "8nzHc_Qbn7dM",
    "outputId": "bc2f960d-16e5-46b2-a41f-695892c311c7"
   },
   "outputs": [
    {
     "name": "stdout",
     "output_type": "stream",
     "text": [
      "Train: 0.8265139116202946\n",
      "Val: 0.8544776119402985\n",
      "Test: 0.8478543563068921\n"
     ]
    }
   ],
   "source": [
    "# Train\n",
    "scores = cph.predict_partial_hazard(one_hot_train)\n",
    "cox_train_scores = harrell_c(one_hot_train['time'].values, scores.values, one_hot_train['status'].values)\n",
    "# Validation\n",
    "scores = cph.predict_partial_hazard(one_hot_val)\n",
    "cox_val_scores = harrell_c(one_hot_val['time'].values, scores.values, one_hot_val['status'].values)\n",
    "# Test\n",
    "scores = cph.predict_partial_hazard(one_hot_test)\n",
    "cox_test_scores = harrell_c(one_hot_test['time'].values, scores.values, one_hot_test['status'].values)\n",
    "\n",
    "print(\"Train:\", cox_train_scores)\n",
    "print(\"Val:\", cox_val_scores)\n",
    "print(\"Test:\", cox_test_scores)"
   ]
  },
  {
   "cell_type": "markdown",
   "metadata": {},
   "source": [
    "What do these values tell us ?"
   ]
  },
  {
   "cell_type": "markdown",
   "metadata": {
    "colab_type": "text",
    "id": "AuNjR_wNkpWz"
   },
   "source": [
    "<a name='8'></a>\n",
    "## 8. Random Survival Forests\n",
    "\n",
    "This performed well, but you have a hunch you can squeeze out better performance by using a machine learning approach. You decide to use a Random Survival Forest. To do this, you can use the `RandomForestSRC` package in R. To call R function from Python, we'll use the `r2py` package. Run the following cell to import the necessary requirements. \n"
   ]
  },
  {
   "cell_type": "code",
   "execution_count": 24,
   "metadata": {},
   "outputs": [
    {
     "name": "stderr",
     "output_type": "stream",
     "text": [
      "C:\\Users\\ayeshvini\\Anaconda3\\lib\\site-packages\\rpy2\\robjects\\pandas2ri.py:17: FutureWarning: pandas.core.index is deprecated and will be removed in a future version.  The public classes are available in the top-level namespace.\n",
      "  from pandas.core.index import Index as PandasIndex\n"
     ]
    }
   ],
   "source": [
    "%load_ext rpy2.ipython"
   ]
  },
  {
   "cell_type": "code",
   "execution_count": 28,
   "metadata": {},
   "outputs": [
    {
     "data": {
      "text/plain": [
       "array([0], dtype=int32)"
      ]
     },
     "execution_count": 28,
     "metadata": {},
     "output_type": "execute_result"
    }
   ],
   "source": [
    "%R require(ggplot2)"
   ]
  },
  {
   "cell_type": "code",
   "execution_count": 27,
   "metadata": {},
   "outputs": [],
   "source": [
    "import rpy2\n",
    "# import rpy2's package module\n",
    "import rpy2.robjects.packages as rpackages\n",
    "from rpy2.robjects.packages import importr"
   ]
  },
  {
   "cell_type": "code",
   "execution_count": 30,
   "metadata": {},
   "outputs": [],
   "source": [
    "import rpy2.robjects.packages as rpackages"
   ]
  },
  {
   "cell_type": "code",
   "execution_count": 34,
   "metadata": {
    "colab": {
     "base_uri": "https://localhost:8080/",
     "height": 530
    },
    "colab_type": "code",
    "id": "ZgSy-Dj6kquK",
    "outputId": "4aa5d2fa-30f4-4328-ae29-a2ff05223e22"
   },
   "outputs": [],
   "source": [
    "# %load_ext rpy2.ipython\n",
    "# %R require(ggplot2)\n",
    "from rpy2.robjects.vectors import StrVector\n",
    "from rpy2.robjects.packages import importr\n",
    "# import R's \"base\" package\n",
    "base = importr('base')\n",
    "\n",
    "# import R's \"utils\" package\n",
    "utils = importr('utils')\n",
    "\n",
    "# import rpy2's package module\n",
    "import rpy2.robjects.packages as rpackages\n",
    "\n",
    "packnames = ('randomForestSRC', 'survival', 'tidyverse', 'magrittr', 'ggRandomForests', 'mlr')\n",
    "utils.install_packages(StrVector(packnames))\n",
    "\n",
    "from rpy2.robjects.packages import importr\n",
    "forest = importr('randomForestSRC')\n",
    "\n",
    "#forest = rpackages.importr('randomForestSRC', lib_loc='R')\n",
    "\n",
    "from rpy2 import robjects as ro\n",
    "R = ro.r\n",
    "\n",
    "from rpy2.robjects import pandas2ri\n",
    "pandas2ri.activate()"
   ]
  },
  {
   "cell_type": "markdown",
   "metadata": {
    "colab_type": "text",
    "id": "LXBgqQBfuMA5"
   },
   "source": [
    "Instead of encoding our categories as binary features, we can use the original dataframe since trees deal well with raw categorical data (can you think why this might be?).\n",
    "\n",
    "Run the code cell below to build your forest."
   ]
  },
  {
   "cell_type": "code",
   "execution_count": 35,
   "metadata": {
    "colab": {},
    "colab_type": "code",
    "id": "B-pio4o4mdVJ"
   },
   "outputs": [],
   "source": [
    "model = forest.rfsrc(ro.Formula('Surv(time, status) ~ .'), data=df_train, ntree=300, nodedepth=5, seed=-1)"
   ]
  },
  {
   "cell_type": "code",
   "execution_count": 36,
   "metadata": {
    "colab": {
     "base_uri": "https://localhost:8080/",
     "height": 289
    },
    "colab_type": "code",
    "id": "zZfcUvJ3nL04",
    "outputId": "27d00bd8-ea33-4c1b-f5d7-ca2c73ead721"
   },
   "outputs": [
    {
     "name": "stdout",
     "output_type": "stream",
     "text": [
      "                         Sample size: 154\n",
      "\r\n",
      "                    Number of deaths: 64\n",
      "\r\n",
      "                     Number of trees: 300\n",
      "\r\n",
      "           Forest terminal node size: 15\n",
      "\r\n",
      "       Average no. of terminal nodes: 6.54\n",
      "\r\n",
      "No. of variables tried at each split: 5\n",
      "\r\n",
      "              Total no. of variables: 17\n",
      "\r\n",
      "       Resampling used to grow trees: swor\n",
      "\r\n",
      "    Resample size used to grow trees: 97\n",
      "\r\n",
      "                            Analysis: RSF\n",
      "\r\n",
      "                              Family: surv\n",
      "\r\n",
      "                      Splitting rule: logrank *random*\n",
      "\r\n",
      "       Number of random split points: 10\n",
      "\r\n",
      "                          Error rate: 19.07%\n",
      "\r\n",
      "\n",
      "\n"
     ]
    }
   ],
   "source": [
    "print(model)"
   ]
  },
  {
   "cell_type": "markdown",
   "metadata": {
    "colab_type": "text",
    "id": "9Mwzm55H-QKV"
   },
   "source": [
    "Finally, let's evaluate on our validation and test sets, and compare it with our Cox model."
   ]
  },
  {
   "cell_type": "code",
   "execution_count": 37,
   "metadata": {
    "colab": {
     "base_uri": "https://localhost:8080/",
     "height": 34
    },
    "colab_type": "code",
    "id": "vfl4LbGfpbKp",
    "outputId": "13f8b560-e171-41e9-f6dc-cf0468a3f786"
   },
   "outputs": [
    {
     "name": "stdout",
     "output_type": "stream",
     "text": [
      "Cox Model Validation Score: 0.8544776119402985\n",
      "Survival Forest Validation Score: 0.8296019900497512\n"
     ]
    }
   ],
   "source": [
    "result = R.predict(model, newdata=df_val)\n",
    "scores = np.array(result.rx('predicted')[0])\n",
    "\n",
    "print(\"Cox Model Validation Score:\", cox_val_scores)\n",
    "print(\"Survival Forest Validation Score:\", harrell_c(df_val['time'].values, scores, df_val['status'].values))"
   ]
  },
  {
   "cell_type": "code",
   "execution_count": 38,
   "metadata": {
    "colab": {
     "base_uri": "https://localhost:8080/",
     "height": 34
    },
    "colab_type": "code",
    "id": "uhqSQJhrplSG",
    "outputId": "752c266e-0234-45c5-d53f-554e2ff17a5a"
   },
   "outputs": [
    {
     "name": "stdout",
     "output_type": "stream",
     "text": [
      "Cox Model Test Score: 0.8478543563068921\n",
      "Survival Forest Validation Score: 0.8621586475942783\n"
     ]
    }
   ],
   "source": [
    "result = R.predict(model, newdata=df_test)\n",
    "scores = np.array(result.rx('predicted')[0])\n",
    "\n",
    "print(\"Cox Model Test Score:\", cox_test_scores)\n",
    "print(\"Survival Forest Validation Score:\", harrell_c(df_test['time'].values, scores, df_test['status'].values))"
   ]
  },
  {
   "cell_type": "markdown",
   "metadata": {
    "colab_type": "text",
    "id": "Gp_SgUXreAWn"
   },
   "source": [
    "Your random forest model should be outperforming the Cox model slightly. Let's dig deeper to see how they differ."
   ]
  },
  {
   "cell_type": "markdown",
   "metadata": {
    "colab_type": "text",
    "id": "ZtPMPaSli8GB"
   },
   "source": [
    "<a name='9'></a>\n",
    "## 9. Permutation Method for Interpretation\n",
    "\n",
    "We'll dig a bit deeper into interpretation methods for forests a bit later, but for now just know that random surival forests come with their own built in variable importance feature. The method is referred to as VIMP, and for the purpose of this section you should just know that higher absolute value of the VIMP means that the variable generally has a larger effect on the model outcome.\n",
    "\n",
    "Run the next cell to compute and plot VIMP for the random survival forest."
   ]
  },
  {
   "cell_type": "code",
   "execution_count": 39,
   "metadata": {
    "colab": {
     "base_uri": "https://localhost:8080/",
     "height": 281
    },
    "colab_type": "code",
    "id": "u7M4_N_d-YJu",
    "outputId": "7e1830cb-4b67-444f-8ba5-d49d3ff2f172"
   },
   "outputs": [
    {
     "data": {
      "image/png": "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\n",
      "text/plain": [
       "<Figure size 432x288 with 1 Axes>"
      ]
     },
     "metadata": {
      "needs_background": "light"
     },
     "output_type": "display_data"
    }
   ],
   "source": [
    "vimps = np.array(forest.vimp(model).rx('importance')[0])\n",
    "\n",
    "y = np.arange(len(vimps))\n",
    "plt.barh(y, np.abs(vimps))\n",
    "plt.yticks(y, df_train.drop(['time', 'status'], axis=1).columns)\n",
    "plt.title(\"VIMP (absolute value)\")\n",
    "plt.show()"
   ]
  },
  {
   "cell_type": "markdown",
   "metadata": {
    "colab_type": "text",
    "id": "2YGhK2xwjkiA"
   },
   "source": [
    "### Question:\n",
    "\n",
    "How does the variable importance compare to that of the Cox model? Which variable is important in both models? Which variable is important in the random survival forest but not in the Cox model? You should see that `edema` is important in both the random survival forest and the Cox model. You should also see that `bili` is important in the random survival forest but not the Cox model ."
   ]
  }
 ],
 "metadata": {
  "accelerator": "GPU",
  "colab": {
   "collapsed_sections": [],
   "include_colab_link": true,
   "name": "C2M4_Assignment.ipynb",
   "provenance": []
  },
  "kernelspec": {
   "display_name": "Python 3",
   "language": "python",
   "name": "python3"
  },
  "language_info": {
   "codemirror_mode": {
    "name": "ipython",
    "version": 3
   },
   "file_extension": ".py",
   "mimetype": "text/x-python",
   "name": "python",
   "nbconvert_exporter": "python",
   "pygments_lexer": "ipython3",
   "version": "3.7.6"
  }
 },
 "nbformat": 4,
 "nbformat_minor": 4
}
